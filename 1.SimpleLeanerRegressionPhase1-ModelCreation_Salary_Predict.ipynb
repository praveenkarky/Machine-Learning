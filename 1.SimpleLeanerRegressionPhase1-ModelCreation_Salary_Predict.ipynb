{
 "cells": [
  {
   "cell_type": "code",
   "execution_count": 2,
   "metadata": {},
   "outputs": [],
   "source": [
    "#Simple Regression Code\n",
    "#pandas is the library and it contain the many function to deal with database/files.\n",
    "import pandas as pd\n",
    "data = pd.read_csv(\"Salary_Data.csv\") #using pandas.function(read_csv) csv file able to read\n",
    "#data"
   ]
  },
  {
   "cell_type": "code",
   "execution_count": 3,
   "metadata": {},
   "outputs": [],
   "source": [
    "#Split Input & Output Varaiables\n",
    "independent = data[[\"YearsExperience\"]] #To store csv data of input column of x into the input variable \n",
    "#independent\n",
    "dependent = data[[\"Salary\"]] #To store csv data of output column of y into the Output variable \n",
    "#dependent"
   ]
  },
  {
   "cell_type": "code",
   "execution_count": 4,
   "metadata": {},
   "outputs": [],
   "source": [
    "#Split Train and test dataset\n",
    "#Pass the input & output variable and define test_size & random_state\n",
    "from sklearn.model_selection import train_test_split # Using sklearn.model_selection library import the train_test_split function\n",
    "#to split the train & test data here 30% used in test & remaining 70% data using in train set.\n",
    "x_train,x_test,y_train,y_test = train_test_split(independent,dependent,test_size = 0.30,random_state=0)"
   ]
  },
  {
   "cell_type": "code",
   "execution_count": 5,
   "metadata": {},
   "outputs": [
    {
     "name": "stdout",
     "output_type": "stream",
     "text": [
      "[[9360.26128619]] [26777.3913412]\n"
     ]
    }
   ],
   "source": [
    "#Create the LinearResgression model to find the Weight & Bias value to use the formula y=wX+b\n",
    "#Using sklearn.linear_model library import the LinearRegression  function \n",
    "from sklearn.linear_model import LinearRegression \n",
    "regressor = LinearRegression() # assign the LinearRegression() function into regressor variable\n",
    "regressor.fit(x_train,y_train) #using the regressor variable fit the train set to calculate the weight & bias value.\n",
    "weight= regressor.coef_ #to get the weight value from the function\n",
    "bias= regressor.intercept_ #to get the bias value from the function\n",
    "print(weight,bias)"
   ]
  },
  {
   "cell_type": "code",
   "execution_count": 6,
   "metadata": {},
   "outputs": [],
   "source": [
    "#Predict the x_test set values\n",
    "y_pred = regressor.predict(x_test) \n"
   ]
  },
  {
   "cell_type": "code",
   "execution_count": 7,
   "metadata": {},
   "outputs": [
    {
     "data": {
      "text/plain": [
       "0.9740993407213511"
      ]
     },
     "execution_count": 7,
     "metadata": {},
     "output_type": "execute_result"
    }
   ],
   "source": [
    "#Evaluate process to find the predicted model is good\n",
    "from sklearn.metrics import r2_score \n",
    "rscore = r2_score(y_test,y_pred)\n",
    "rscore"
   ]
  },
  {
   "cell_type": "code",
   "execution_count": 8,
   "metadata": {},
   "outputs": [],
   "source": [
    "#Save the modle \n",
    "import pickle\n",
    "filename = \"finalized_model_linear.sav\"\n",
    "pickle.dump(regressor,open(filename,'wb'))"
   ]
  },
  {
   "cell_type": "code",
   "execution_count": 9,
   "metadata": {},
   "outputs": [
    {
     "data": {
      "text/plain": [
       "array([[148460.78806172]])"
      ]
     },
     "execution_count": 9,
     "metadata": {},
     "output_type": "execute_result"
    }
   ],
   "source": [
    "#load the saved model to check the output\n",
    "loaded_model = pickle.load(open(\"finalized_model_linear.sav\",'rb'))\n",
    "result = loaded_model.predict([[13]])\n",
    "result"
   ]
  },
  {
   "cell_type": "code",
   "execution_count": null,
   "metadata": {},
   "outputs": [],
   "source": []
  }
 ],
 "metadata": {
  "kernelspec": {
   "display_name": "Python 3",
   "language": "python",
   "name": "python3"
  },
  "language_info": {
   "codemirror_mode": {
    "name": "ipython",
    "version": 3
   },
   "file_extension": ".py",
   "mimetype": "text/x-python",
   "name": "python",
   "nbconvert_exporter": "python",
   "pygments_lexer": "ipython3",
   "version": "3.7.4"
  }
 },
 "nbformat": 4,
 "nbformat_minor": 2
}
